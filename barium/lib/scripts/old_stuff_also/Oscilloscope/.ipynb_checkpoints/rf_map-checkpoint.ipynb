{
 "cells": [
  {
   "cell_type": "markdown",
   "metadata": {},
   "source": [
    "## Trap RF Map\n",
    "\n",
    "### 9/20/16\n",
    "\n",
    "We needed to creat a RF map so we can set the rf on one rod and the other rods amplitude and phase adjust to match the waveform. I wrote an optimization program to do this. It uses a keysight sequence to grab the tracec and fit the amplitude, phase, and offset. Each iteration channel 2 is fixed and channel 3 is matched. As of now the scale on the oscilloscope needs to be changed as you scan throught the voltages so the traces do not exceed the top and bottom of the screen. Because of this the map was made in four different files. Will stitch them together and put the map in the server file. "
   ]
  },
  {
   "cell_type": "code",
   "execution_count": 1,
   "metadata": {
    "collapsed": false
   },
   "outputs": [
    {
     "name": "stdout",
     "output_type": "stream",
     "text": [
      "[[   50.     49.     22.2]\n",
      " [   51.     51.     22. ]\n",
      " [   52.     51.     22. ]\n",
      " ..., \n",
      " [ 1231.   1226.     11.3]\n",
      " [ 1232.   1227.     11.3]\n",
      " [ 1233.   1229.     11.3]]\n"
     ]
    }
   ],
   "source": [
    "# Read in traces\n",
    "\n",
    "rf_50_100 = np.loadtxt('C:/Users/barium133/Code/barium/lib/scripts/Oscilloscope/rf_settings_50_100.txt')\n",
    "rf_101_400 = np.loadtxt('C:/Users/barium133/Code/barium/lib/scripts/Oscilloscope/rf_settings_101_400.txt')\n",
    "rf_401_700 = np.loadtxt('C:/Users/barium133/Code/barium/lib/scripts/Oscilloscope/rf_settings_401_700.txt')\n",
    "rf_701_1000 = np.loadtxt('C:/Users/barium133/Code/barium/lib/scripts/Oscilloscope/rf_settings_701_1000.txt')\n",
    "rf_1001_1233 = np.loadtxt('C:/Users/barium133/Code/barium/lib/scripts/Oscilloscope/rf_settings_1001_1233.txt')\n",
    "\n",
    "\n",
    "rf_map = np.append(rf_50_100, rf_101_400,  axis = 0)\n",
    "rf_map = np.append(rf_map, rf_401_700 , axis = 0)\n",
    "rf_map = np.append(rf_map, rf_701_1000 , axis = 0)\n",
    "rf_map = np.append(rf_map,rf_1001_1233 , axis = 0)\n",
    "\n",
    "np.savetxt('C:/Users/barium133/Code/barium/lib/clients/TrapControl_client/rf_map.txt',rf_map,fmt=\"%0.2f\")\n",
    "\n",
    "print rf_map"
   ]
  },
  {
   "cell_type": "markdown",
   "metadata": {},
   "source": [
    "## "
   ]
  },
  {
   "cell_type": "code",
   "execution_count": null,
   "metadata": {
    "collapsed": true
   },
   "outputs": [],
   "source": []
  }
 ],
 "metadata": {
  "anaconda-cloud": {},
  "kernelspec": {
   "display_name": "Python [Root]",
   "language": "python",
   "name": "Python [Root]"
  },
  "language_info": {
   "codemirror_mode": {
    "name": "ipython",
    "version": 2
   },
   "file_extension": ".py",
   "mimetype": "text/x-python",
   "name": "python",
   "nbconvert_exporter": "python",
   "pygments_lexer": "ipython2",
   "version": "2.7.12"
  }
 },
 "nbformat": 4,
 "nbformat_minor": 0
}
